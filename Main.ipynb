{
 "cells": [
  {
   "cell_type": "code",
   "execution_count": null,
   "id": "09712f86",
   "metadata": {},
   "outputs": [],
   "source": [
    "import os \n",
    "import pandas as pd \n",
    "import numpy as np \n",
    "from tensorflow.keras.preprocessing.image import ImageDataGenerator\n",
    "from tensorflow.keras.layers import Conv2D , MaxPool2D , Flatten, Dense, Dropout\n",
    "from tensorflow.keras.optimizers import Adam\n",
    "from sklearn.metrics import classification_report , confusion_matrix\n"
   ]
  },
  {
   "cell_type": "markdown",
   "id": "edb170c5",
   "metadata": {},
   "source": [
    "what duse the ImageDataGenerator Du ?"
   ]
  },
  {
   "cell_type": "code",
   "execution_count": 8,
   "id": "34e647c0",
   "metadata": {},
   "outputs": [],
   "source": [
    "train_dir = r\"E:\\Projects\\pneumonia-detection\\Pneumonia-detection\\chest_xray\\train\"\n",
    "categories = ['NORMAL' , 'PNEUMONIA']\n",
    "filepaths = []\n",
    "labels = []\n"
   ]
  },
  {
   "cell_type": "code",
   "execution_count": 9,
   "id": "f708bdf3",
   "metadata": {},
   "outputs": [],
   "source": [
    "for category in categories:\n",
    "     folder = os.path.join(train_dir, category)\n",
    "     for fname in os.listdir(folder):\n",
    "          filepaths.append(f\"{category}/{fname}\")\n",
    "          labels.append(category)\n",
    "            "
   ]
  },
  {
   "cell_type": "code",
   "execution_count": null,
   "id": "89fde305",
   "metadata": {},
   "outputs": [],
   "source": []
  },
  {
   "cell_type": "markdown",
   "id": "996796ac",
   "metadata": {},
   "source": []
  }
 ],
 "metadata": {
  "kernelspec": {
   "display_name": "tf_gpu",
   "language": "python",
   "name": "python3"
  },
  "language_info": {
   "codemirror_mode": {
    "name": "ipython",
    "version": 3
   },
   "file_extension": ".py",
   "mimetype": "text/x-python",
   "name": "python",
   "nbconvert_exporter": "python",
   "pygments_lexer": "ipython3",
   "version": "3.9.23"
  }
 },
 "nbformat": 4,
 "nbformat_minor": 5
}
