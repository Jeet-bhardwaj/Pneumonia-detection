{
 "cells": [
  {
   "cell_type": "markdown",
   "id": "302fb8ab",
   "metadata": {},
   "source": [
    "TURORIAL VIDEO -->   https://www.youtube.com/watch?v=89YozbCLk58&t=997s\n"
   ]
  }
 ],
 "metadata": {
  "language_info": {
   "name": "python"
  }
 },
 "nbformat": 4,
 "nbformat_minor": 5
}
